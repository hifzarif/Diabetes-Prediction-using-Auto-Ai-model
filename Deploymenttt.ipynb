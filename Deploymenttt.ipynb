{
  "nbformat": 4,
  "nbformat_minor": 0,
  "metadata": {
    "colab": {
      "provenance": []
    },
    "kernelspec": {
      "name": "python3",
      "display_name": "Python 3"
    },
    "language_info": {
      "name": "python"
    }
  },
  "cells": [
    {
      "cell_type": "code",
      "execution_count": 1,
      "metadata": {
        "colab": {
          "base_uri": "https://localhost:8080/"
        },
        "id": "9eZ5Mid7dqM7",
        "outputId": "df378c74-2993-495a-9953-06a641cc33c8"
      },
      "outputs": [
        {
          "output_type": "stream",
          "name": "stdout",
          "text": [
            "Scoring response\n",
            "{'predictions': [{'fields': ['prediction', 'probability'], 'values': [[1, [0.17056783711034418, 0.8294321628896558]], [0, [0.9204752683357272, 0.07952473166427275]]]}]}\n"
          ]
        }
      ],
      "source": [
        "import requests\n",
        "API_KEY = \"13sYdUAigCHHZwBSwMOdncD1VpAQe-jjGTbUV5PbUc0d\"\n",
        "token_response = requests.post('https://iam.cloud.ibm.com/identity/token', data={\"apikey\": API_KEY, \"grant_type\": 'urn:ibm:params:oauth:grant-type:apikey'})\n",
        "mltoken = token_response.json()[\"access_token\"]\n",
        "\n",
        "header = {'Content-Type': 'application/json', 'Authorization': 'Bearer ' + mltoken}\n",
        "\n",
        "# NOTE:  manually define and pass the array(s) of values to be scored in the next line\n",
        "payload_scoring = {\"input_data\": [\n",
        "\t{\n",
        "\t\t\"fields\": [\"Pregnancies\", \"Glucose\", \"BloodPressure\", \"SkinThickness\", \"Insulin\", \"BMI\", \"DiabetesPedigreeFunction\", \"Age\"],\n",
        "\t\t\"values\": [\n",
        "                [6, 148, 72, 35, 0, 33.6, 0.627, 50],\n",
        "                [1, 85, 66, 29, 0, 26.6, 0.351, 31]\n",
        "            ]\n",
        "\t}\n",
        "]}\n",
        "response_scoring = requests.post('https://au-syd.ml.cloud.ibm.com/ml/v4/deployments/876d51ca-9783-44ea-9a90-be9991c1ba96/predictions?version=2021-05-01', json=payload_scoring,\n",
        " headers={'Authorization': 'Bearer ' + mltoken})\n",
        "\n",
        "print(\"Scoring response\")\n",
        "try:\n",
        "    print(response_scoring.json())\n",
        "except ValueError:\n",
        "    print(response_scoring.text)\n",
        "except Exception as e:\n",
        "    print(f\"An unexpected error occurred: {e}\")"
      ]
    },
    {
      "cell_type": "code",
      "source": [],
      "metadata": {
        "id": "1M4LqBJif4YB"
      },
      "execution_count": null,
      "outputs": []
    }
  ]
}